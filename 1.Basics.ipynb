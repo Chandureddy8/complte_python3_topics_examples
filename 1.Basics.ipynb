{
  "nbformat": 4,
  "nbformat_minor": 0,
  "metadata": {
    "colab": {
      "name": "Basics.ipynb",
      "provenance": [],
      "collapsed_sections": []
    },
    "kernelspec": {
      "name": "python3",
      "display_name": "Python 3"
    }
  },
  "cells": [
    {
      "cell_type": "code",
      "metadata": {
        "colab": {
          "base_uri": "https://localhost:8080/"
        },
        "id": "Kibsos9l8-IU",
        "outputId": "f2a7dfe7-2bcd-492e-a274-4ecdd97f459c"
      },
      "source": [
        "print(\"hello world\")"
      ],
      "execution_count": 1,
      "outputs": [
        {
          "output_type": "stream",
          "text": [
            "hello world\n"
          ],
          "name": "stdout"
        }
      ]
    },
    {
      "cell_type": "code",
      "metadata": {
        "colab": {
          "base_uri": "https://localhost:8080/"
        },
        "id": "kSVhe90v9WDy",
        "outputId": "271051a2-3e2b-456b-dfd5-1bb5bbe94604"
      },
      "source": [
        "mynumber = 8\r\n",
        "print(mynumber)"
      ],
      "execution_count": 2,
      "outputs": [
        {
          "output_type": "stream",
          "text": [
            "8\n"
          ],
          "name": "stdout"
        }
      ]
    },
    {
      "cell_type": "code",
      "metadata": {
        "id": "CKg9wcON9b3O"
      },
      "source": [
        "nums = []  \r\n",
        "\r\n",
        "nums.append(6) \r\n",
        "nums.append(48.5) \r\n",
        "nums.append(\"chandu\")"
      ],
      "execution_count": 3,
      "outputs": []
    },
    {
      "cell_type": "code",
      "metadata": {
        "colab": {
          "base_uri": "https://localhost:8080/"
        },
        "id": "dP6lJKmk9m6X",
        "outputId": "a7110173-d9d2-4f3a-8645-7bfc61b98476"
      },
      "source": [
        "print(nums)"
      ],
      "execution_count": 4,
      "outputs": [
        {
          "output_type": "stream",
          "text": [
            "[6, 48.5, 'chandu']\n"
          ],
          "name": "stdout"
        }
      ]
    },
    {
      "cell_type": "markdown",
      "metadata": {
        "id": "r5DO0biE_EA0"
      },
      "source": [
        "**Input and Output**"
      ]
    },
    {
      "cell_type": "code",
      "metadata": {
        "colab": {
          "base_uri": "https://localhost:8080/"
        },
        "id": "QzOrNp5w9pts",
        "outputId": "e5f7c297-ee6b-4d30-a4b3-91e5ca1e724b"
      },
      "source": [
        "name = input(\"enter your name: \")"
      ],
      "execution_count": 5,
      "outputs": [
        {
          "output_type": "stream",
          "text": [
            "enter your name: chandu\n"
          ],
          "name": "stdout"
        }
      ]
    },
    {
      "cell_type": "code",
      "metadata": {
        "colab": {
          "base_uri": "https://localhost:8080/"
        },
        "id": "59nia4Ok9zDy",
        "outputId": "3e479bf4-c401-45b1-b100-da79ccf3d564"
      },
      "source": [
        "print(\"hello\", name)"
      ],
      "execution_count": 6,
      "outputs": [
        {
          "output_type": "stream",
          "text": [
            "hello chandu\n"
          ],
          "name": "stdout"
        }
      ]
    },
    {
      "cell_type": "code",
      "metadata": {
        "colab": {
          "base_uri": "https://localhost:8080/"
        },
        "id": "dxWSGYmI96IG",
        "outputId": "4e7de712-3222-434f-9baf-aaf34bc043b7"
      },
      "source": [
        "num1 = int(input(\"enter your num1: \"))\r\n",
        "num2 = int(input(\"enter your num2: \"))"
      ],
      "execution_count": 7,
      "outputs": [
        {
          "output_type": "stream",
          "text": [
            "enter your num1: 8\n",
            "enter your num2: 6\n"
          ],
          "name": "stdout"
        }
      ]
    },
    {
      "cell_type": "code",
      "metadata": {
        "colab": {
          "base_uri": "https://localhost:8080/"
        },
        "id": "_LRq2oH5-IxL",
        "outputId": "14306566-235f-4fec-f4d2-f7de3117aa81"
      },
      "source": [
        "num3 = num1 * num2\r\n",
        "print(\"product is: \", num3)"
      ],
      "execution_count": 9,
      "outputs": [
        {
          "output_type": "stream",
          "text": [
            "product is:  48\n"
          ],
          "name": "stdout"
        }
      ]
    },
    {
      "cell_type": "markdown",
      "metadata": {
        "id": "em61twkx_K3e"
      },
      "source": [
        "**Selection**"
      ]
    },
    {
      "cell_type": "code",
      "metadata": {
        "colab": {
          "base_uri": "https://localhost:8080/"
        },
        "id": "PrJqiXXR-Rrj",
        "outputId": "635a011e-c553-4212-c0d8-3e25c7e99f7a"
      },
      "source": [
        "num1 = 28\r\n",
        "if(num1>12):\r\n",
        "  print(\"num1 is good\")\r\n",
        "elif(num1>35):\r\n",
        "  print(\"num2 is not good\")\r\n",
        "else:\r\n",
        "  print(\"num2 is great\")"
      ],
      "execution_count": 10,
      "outputs": [
        {
          "output_type": "stream",
          "text": [
            "num1 is good\n"
          ],
          "name": "stdout"
        }
      ]
    },
    {
      "cell_type": "markdown",
      "metadata": {
        "id": "n9S4WgWi_Sac"
      },
      "source": [
        "**Functions**"
      ]
    },
    {
      "cell_type": "code",
      "metadata": {
        "colab": {
          "base_uri": "https://localhost:8080/"
        },
        "id": "mrR_fQpK-zMP",
        "outputId": "a7828127-409f-46df-e331-192c437b05c7"
      },
      "source": [
        "def hello():\r\n",
        "  print(\"hello\")\r\n",
        "  print(\"hello girl\")\r\n",
        "hello()"
      ],
      "execution_count": 11,
      "outputs": [
        {
          "output_type": "stream",
          "text": [
            "hello\n",
            "hello girl\n"
          ],
          "name": "stdout"
        }
      ]
    },
    {
      "cell_type": "code",
      "metadata": {
        "colab": {
          "base_uri": "https://localhost:8080/"
        },
        "id": "QUomHTaF_mGw",
        "outputId": "230551de-033a-4189-cb60-bb77d471f24b"
      },
      "source": [
        "hello()"
      ],
      "execution_count": 12,
      "outputs": [
        {
          "output_type": "stream",
          "text": [
            "hello\n",
            "hello girl\n"
          ],
          "name": "stdout"
        }
      ]
    },
    {
      "cell_type": "code",
      "metadata": {
        "id": "ZGjfXtuXABZY"
      },
      "source": [
        "def getinteger():\r\n",
        "  result = int(input(\"enter integer: \"))\r\n",
        "  return result"
      ],
      "execution_count": 14,
      "outputs": []
    },
    {
      "cell_type": "code",
      "metadata": {
        "id": "mBSQbru5_rPU"
      },
      "source": [
        "def main():\r\n",
        "  print(\"started\")\r\n",
        "  output = getinteger()\r\n",
        "  print(output)"
      ],
      "execution_count": 16,
      "outputs": []
    },
    {
      "cell_type": "code",
      "metadata": {
        "colab": {
          "base_uri": "https://localhost:8080/"
        },
        "id": "JzO-zIJp_04U",
        "outputId": "2e109eb4-4eb2-45f2-c233-df669706f7b9"
      },
      "source": [
        "if __name__ == \"__main__\":\r\n",
        "  main()"
      ],
      "execution_count": 17,
      "outputs": [
        {
          "output_type": "stream",
          "text": [
            "started\n",
            "enter integer: 8\n",
            "8\n"
          ],
          "name": "stdout"
        }
      ]
    },
    {
      "cell_type": "markdown",
      "metadata": {
        "id": "GQDp_yeCA0xF"
      },
      "source": [
        "**iteration(looping)**"
      ]
    },
    {
      "cell_type": "code",
      "metadata": {
        "colab": {
          "base_uri": "https://localhost:8080/"
        },
        "id": "vNIT-RrZAkyC",
        "outputId": "4d943fb7-dc90-4aa9-f4eb-1b555c936c25"
      },
      "source": [
        "for step in range(5):\r\n",
        "  print(step)"
      ],
      "execution_count": 18,
      "outputs": [
        {
          "output_type": "stream",
          "text": [
            "0\n",
            "1\n",
            "2\n",
            "3\n",
            "4\n"
          ],
          "name": "stdout"
        }
      ]
    },
    {
      "cell_type": "markdown",
      "metadata": {
        "id": "hC1bgLx8BGZs"
      },
      "source": [
        "**Modules**\r\n",
        "\r\n",
        "‘import’ keyword is used to import a particular module into your python code."
      ]
    },
    {
      "cell_type": "code",
      "metadata": {
        "id": "UqmjcQf4BDif"
      },
      "source": [
        "import math"
      ],
      "execution_count": 19,
      "outputs": []
    },
    {
      "cell_type": "code",
      "metadata": {
        "id": "ubVfyBNBBaOJ"
      },
      "source": [
        "def main():\r\n",
        "  num = -80\r\n",
        "  num = math.fabs(num) #fabs is used to get absolute value of a decimal\r\n",
        "  print(num)"
      ],
      "execution_count": 20,
      "outputs": []
    },
    {
      "cell_type": "code",
      "metadata": {
        "colab": {
          "base_uri": "https://localhost:8080/"
        },
        "id": "pB5Wxc4DBolA",
        "outputId": "b1700897-2a7a-4af0-af3c-2f35c0b59c4d"
      },
      "source": [
        "if __name__ == \"__main__\":\r\n",
        "  main()"
      ],
      "execution_count": 22,
      "outputs": [
        {
          "output_type": "stream",
          "text": [
            "80.0\n"
          ],
          "name": "stdout"
        }
      ]
    },
    {
      "cell_type": "code",
      "metadata": {
        "id": "dN-qqpXbB5Yo"
      },
      "source": [
        ""
      ],
      "execution_count": null,
      "outputs": []
    }
  ]
}