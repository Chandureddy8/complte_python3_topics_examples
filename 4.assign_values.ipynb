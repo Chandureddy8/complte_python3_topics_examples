{
  "nbformat": 4,
  "nbformat_minor": 0,
  "metadata": {
    "colab": {
      "name": "assign_values.ipynb",
      "provenance": []
    },
    "kernelspec": {
      "name": "python3",
      "display_name": "Python 3"
    }
  },
  "cells": [
    {
      "cell_type": "markdown",
      "metadata": {
        "id": "ZisrvnByhmtl"
      },
      "source": [
        "**Assigning values to variables in python**"
      ]
    },
    {
      "cell_type": "code",
      "metadata": {
        "colab": {
          "base_uri": "https://localhost:8080/"
        },
        "id": "xqhVfX5Khhlt",
        "outputId": "5c9feb92-e452-4aa4-d36a-ec58b0fdf6bf"
      },
      "source": [
        "a = 5\r\n",
        "print('the value of a is : ', a)"
      ],
      "execution_count": 2,
      "outputs": [
        {
          "output_type": "stream",
          "text": [
            "the value of a is :  5\n"
          ],
          "name": "stdout"
        }
      ]
    },
    {
      "cell_type": "markdown",
      "metadata": {
        "id": "03NDqDroicfI"
      },
      "source": [
        "**One liner if-else instead of Conditional Operator**"
      ]
    },
    {
      "cell_type": "code",
      "metadata": {
        "colab": {
          "base_uri": "https://localhost:8080/"
        },
        "id": "TAuEzBp9h8Mg",
        "outputId": "89eab624-2400-4f78-e6c2-eb31f66a185c"
      },
      "source": [
        "a = 1 if 20 > 10 else 0\r\n",
        "\r\n",
        "print(\"the value of a is: \", a)"
      ],
      "execution_count": 3,
      "outputs": [
        {
          "output_type": "stream",
          "text": [
            "the value of a is:  1\n"
          ],
          "name": "stdout"
        }
      ]
    },
    {
      "cell_type": "markdown",
      "metadata": {
        "id": "txSQr4twlChC"
      },
      "source": [
        "**Assign values to Values List**"
      ]
    },
    {
      "cell_type": "code",
      "metadata": {
        "colab": {
          "base_uri": "https://localhost:8080/"
        },
        "id": "F0D8GfPlitRp",
        "outputId": "4ea4bac9-470d-43dc-ac37-ea9366162d20"
      },
      "source": [
        "test_dict = {'Gfg' : [3, 6],\r\n",
        "             'is' : [4, 2],\r\n",
        "             'best' : [9]}\r\n",
        "\r\n",
        "print('The original dictionary is : ', test_dict)\r\n",
        "\r\n",
        "look_dict = {3 : [1, 5], 6 : \"Best\", 4 : 10, 9 : 12, 2 : 'cs'}\r\n",
        "res = {idx: {ikey : look_dict[ikey] for ikey in test_dict[idx]} for idx in test_dict}\r\n",
        "print('The mapped dictionary : ' , res)"
      ],
      "execution_count": 4,
      "outputs": [
        {
          "output_type": "stream",
          "text": [
            "The original dictionary is :  {'Gfg': [3, 6], 'is': [4, 2], 'best': [9]}\n",
            "The mapped dictionary :  {'Gfg': {3: [1, 5], 6: 'Best'}, 'is': {4: 10, 2: 'cs'}, 'best': {9: 12}}\n"
          ],
          "name": "stdout"
        }
      ]
    },
    {
      "cell_type": "markdown",
      "metadata": {
        "id": "SodJjYvspyYu"
      },
      "source": [
        "**Assign range of elements to List**"
      ]
    },
    {
      "cell_type": "code",
      "metadata": {
        "colab": {
          "base_uri": "https://localhost:8080/"
        },
        "id": "ZsJIiZnApkeL",
        "outputId": "542ba5e9-a3d0-4ea4-9676-76492376f8d6"
      },
      "source": [
        "test_list = [3, 5, 6, 8]\r\n",
        "print(\"The original list : \", test_list)\r\n",
        "\r\n",
        "test_list.extend(range(6))\r\n",
        "print(\"The original list : \", test_list)"
      ],
      "execution_count": 8,
      "outputs": [
        {
          "output_type": "stream",
          "text": [
            "The original list :  [3, 5, 6, 8]\n",
            "The original list :  [3, 5, 6, 8, 0, 1, 2, 3, 4, 5]\n"
          ],
          "name": "stdout"
        }
      ]
    },
    {
      "cell_type": "code",
      "metadata": {
        "id": "mnQ1TPh9qEb8"
      },
      "source": [
        ""
      ],
      "execution_count": null,
      "outputs": []
    }
  ]
}